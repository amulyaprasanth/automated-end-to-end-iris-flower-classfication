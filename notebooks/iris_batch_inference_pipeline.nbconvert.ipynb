{
 "cells": [
  {
   "cell_type": "markdown",
   "metadata": {
    "vscode": {
     "languageId": "plaintext"
    }
   },
   "source": [
    "# Iris Flower - Batch Prediction\n",
    "\n",
    "In this notebook we will,\n",
    "1. Load the batch inference data that arrived in the last 24 hours.\n",
    "2. Predict the first Iris Flower found n the batch.\n",
    "3. Write the output png of the Iris flower predicted, to be displayed in GitHub pages."
   ]
  },
  {
   "cell_type": "code",
   "execution_count": 1,
   "metadata": {
    "execution": {
     "iopub.execute_input": "2025-02-19T00:59:08.751585Z",
     "iopub.status.busy": "2025-02-19T00:59:08.751211Z",
     "iopub.status.idle": "2025-02-19T00:59:09.740001Z",
     "shell.execute_reply": "2025-02-19T00:59:09.739411Z"
    }
   },
   "outputs": [],
   "source": [
    "import pandas as pd\n",
    "import hopsworks\n",
    "import joblib\n",
    "import os\n",
    "from dotenv import load_dotenv\n",
    "\n",
    "load_dotenv()\n",
    "\n",
    "api_key = str(os.getenv('HOPSWORKS_API_KEY'))"
   ]
  },
  {
   "cell_type": "code",
   "execution_count": 2,
   "metadata": {
    "execution": {
     "iopub.execute_input": "2025-02-19T00:59:09.742316Z",
     "iopub.status.busy": "2025-02-19T00:59:09.742010Z",
     "iopub.status.idle": "2025-02-19T00:59:10.966005Z",
     "shell.execute_reply": "2025-02-19T00:59:10.965383Z"
    }
   },
   "outputs": [
    {
     "name": "stdout",
     "output_type": "stream",
     "text": [
      "2025-02-19 00:59:09,743 INFO: Initializing external client\n"
     ]
    },
    {
     "name": "stdout",
     "output_type": "stream",
     "text": [
      "2025-02-19 00:59:09,744 INFO: Base URL: https://c.app.hopsworks.ai:443\n"
     ]
    },
    {
     "name": "stdout",
     "output_type": "stream",
     "text": [
      "2025-02-19 00:59:10,551 INFO: Python Engine initialized.\n"
     ]
    },
    {
     "name": "stdout",
     "output_type": "stream",
     "text": [
      "\n",
      "Logged in to project, explore it here https://c.app.hopsworks.ai:443/p/1212597\n"
     ]
    }
   ],
   "source": [
    "project = hopsworks.login(api_key_value=api_key)\n",
    "fs = project.get_feature_store()"
   ]
  },
  {
   "cell_type": "code",
   "execution_count": 3,
   "metadata": {
    "execution": {
     "iopub.execute_input": "2025-02-19T00:59:10.968101Z",
     "iopub.status.busy": "2025-02-19T00:59:10.967710Z",
     "iopub.status.idle": "2025-02-19T00:59:12.720733Z",
     "shell.execute_reply": "2025-02-19T00:59:12.720192Z"
    }
   },
   "outputs": [
    {
     "name": "stdout",
     "output_type": "stream",
     "text": [
      "Downloading model artifact (0 dirs, 1 files)... \r"
     ]
    },
    {
     "name": "stdout",
     "output_type": "stream",
     "text": [
      "Downloading model artifact (0 dirs, 2 files)... \r",
      "Downloading model artifact (0 dirs, 3 files)... \r",
      "Downloading model artifact (0 dirs, 3 files)... DONE\r"
     ]
    }
   ],
   "source": [
    "mr = project.get_model_registry()\n",
    "model = mr.get_model(\"iris\", version=3)\n",
    "model_dir = model.download()\n",
    "model = joblib.load(model_dir + \"/iris_model.pkl\")\n",
    "label_encoder = joblib.load(model_dir + \"/label_encoder.pkl\")"
   ]
  },
  {
   "cell_type": "markdown",
   "metadata": {},
   "source": [
    "Now we will do some **Batch Inference**\n",
    "\n",
    "We will read all the input features that have arrived in the last 24 hours, and score them."
   ]
  },
  {
   "cell_type": "code",
   "execution_count": 4,
   "metadata": {
    "execution": {
     "iopub.execute_input": "2025-02-19T00:59:12.723140Z",
     "iopub.status.busy": "2025-02-19T00:59:12.722643Z",
     "iopub.status.idle": "2025-02-19T00:59:13.426442Z",
     "shell.execute_reply": "2025-02-19T00:59:13.425927Z"
    }
   },
   "outputs": [],
   "source": [
    "feature_view = fs.get_feature_view(\"iris\", version=1)"
   ]
  },
  {
   "cell_type": "code",
   "execution_count": 5,
   "metadata": {
    "execution": {
     "iopub.execute_input": "2025-02-19T00:59:13.428513Z",
     "iopub.status.busy": "2025-02-19T00:59:13.428168Z",
     "iopub.status.idle": "2025-02-19T00:59:15.603690Z",
     "shell.execute_reply": "2025-02-19T00:59:15.603125Z"
    }
   },
   "outputs": [
    {
     "name": "stdout",
     "output_type": "stream",
     "text": [
      "Reading data from Hopsworks, using Hopsworks Feature Query Service.   \r"
     ]
    },
    {
     "name": "stdout",
     "output_type": "stream",
     "text": [
      "Reading data from Hopsworks, using Hopsworks Feature Query Service..   \r"
     ]
    },
    {
     "name": "stdout",
     "output_type": "stream",
     "text": [
      "\r",
      "Finished: Reading data from Hopsworks, using Hopsworks Feature Query Service (0.59s) \n"
     ]
    },
    {
     "data": {
      "text/plain": [
       "array([0, 0, 2, 1, 2, 0, 2, 2, 1, 1, 2, 2, 2, 2, 2, 2, 1, 0, 1, 1, 1, 1,\n",
       "       1, 0, 2, 0, 0, 1, 0, 0, 2, 1, 2, 2, 0, 0, 2, 0, 1, 0, 2, 1, 1, 0,\n",
       "       1, 1, 2, 1, 1, 1, 1, 2, 1, 2, 1, 0, 1, 2, 0, 0, 0, 2, 0, 0, 2, 1,\n",
       "       2, 1, 1, 2, 1, 0, 1, 2, 2, 2, 1, 2, 2, 2, 1, 2, 1, 2, 2, 0, 1, 2,\n",
       "       1, 0, 1, 1, 2, 0, 0, 0, 1, 2, 0, 2, 0, 0, 1, 2, 0, 1, 0, 0, 0, 2,\n",
       "       0, 2, 0, 0, 0, 0, 0, 0, 0, 1, 0, 0, 1, 2, 1, 0, 2, 0, 1, 0, 0, 2,\n",
       "       2, 0, 1, 0, 1, 2, 2, 1, 2, 1, 1, 2, 1, 1, 0, 1, 0, 1, 2, 0, 2, 2,\n",
       "       1, 2], dtype=int32)"
      ]
     },
     "execution_count": 5,
     "metadata": {},
     "output_type": "execute_result"
    }
   ],
   "source": [
    "import datetime\n",
    "from PIL import Image\n",
    "\n",
    "batch_data = feature_view.get_batch_data()\n",
    "\n",
    "y_pred = model.predict(batch_data)\n",
    "y_pred"
   ]
  },
  {
   "cell_type": "code",
   "execution_count": 6,
   "metadata": {
    "execution": {
     "iopub.execute_input": "2025-02-19T00:59:15.605460Z",
     "iopub.status.busy": "2025-02-19T00:59:15.605291Z",
     "iopub.status.idle": "2025-02-19T00:59:15.613992Z",
     "shell.execute_reply": "2025-02-19T00:59:15.613523Z"
    }
   },
   "outputs": [
    {
     "data": {
      "text/html": [
       "<div>\n",
       "<style scoped>\n",
       "    .dataframe tbody tr th:only-of-type {\n",
       "        vertical-align: middle;\n",
       "    }\n",
       "\n",
       "    .dataframe tbody tr th {\n",
       "        vertical-align: top;\n",
       "    }\n",
       "\n",
       "    .dataframe thead th {\n",
       "        text-align: right;\n",
       "    }\n",
       "</style>\n",
       "<table border=\"1\" class=\"dataframe\">\n",
       "  <thead>\n",
       "    <tr style=\"text-align: right;\">\n",
       "      <th></th>\n",
       "      <th>sepal_length</th>\n",
       "      <th>sepal_width</th>\n",
       "      <th>petal_length</th>\n",
       "      <th>petal_width</th>\n",
       "    </tr>\n",
       "  </thead>\n",
       "  <tbody>\n",
       "    <tr>\n",
       "      <th>0</th>\n",
       "      <td>5.367117</td>\n",
       "      <td>4.434446</td>\n",
       "      <td>1.374910</td>\n",
       "      <td>0.497858</td>\n",
       "    </tr>\n",
       "    <tr>\n",
       "      <th>1</th>\n",
       "      <td>4.900000</td>\n",
       "      <td>3.600000</td>\n",
       "      <td>1.400000</td>\n",
       "      <td>0.100000</td>\n",
       "    </tr>\n",
       "    <tr>\n",
       "      <th>2</th>\n",
       "      <td>5.700000</td>\n",
       "      <td>2.500000</td>\n",
       "      <td>5.000000</td>\n",
       "      <td>2.000000</td>\n",
       "    </tr>\n",
       "    <tr>\n",
       "      <th>3</th>\n",
       "      <td>5.700000</td>\n",
       "      <td>3.000000</td>\n",
       "      <td>4.200000</td>\n",
       "      <td>1.200000</td>\n",
       "    </tr>\n",
       "    <tr>\n",
       "      <th>4</th>\n",
       "      <td>6.700000</td>\n",
       "      <td>3.300000</td>\n",
       "      <td>5.700000</td>\n",
       "      <td>2.100000</td>\n",
       "    </tr>\n",
       "    <tr>\n",
       "      <th>...</th>\n",
       "      <td>...</td>\n",
       "      <td>...</td>\n",
       "      <td>...</td>\n",
       "      <td>...</td>\n",
       "    </tr>\n",
       "    <tr>\n",
       "      <th>151</th>\n",
       "      <td>5.132883</td>\n",
       "      <td>2.365554</td>\n",
       "      <td>1.825090</td>\n",
       "      <td>0.502142</td>\n",
       "    </tr>\n",
       "    <tr>\n",
       "      <th>152</th>\n",
       "      <td>5.980721</td>\n",
       "      <td>2.311288</td>\n",
       "      <td>6.153158</td>\n",
       "      <td>2.250375</td>\n",
       "    </tr>\n",
       "    <tr>\n",
       "      <th>153</th>\n",
       "      <td>4.630351</td>\n",
       "      <td>2.743195</td>\n",
       "      <td>5.200417</td>\n",
       "      <td>1.737836</td>\n",
       "    </tr>\n",
       "    <tr>\n",
       "      <th>154</th>\n",
       "      <td>6.695723</td>\n",
       "      <td>3.242433</td>\n",
       "      <td>3.152837</td>\n",
       "      <td>1.426165</td>\n",
       "    </tr>\n",
       "    <tr>\n",
       "      <th>155</th>\n",
       "      <td>7.115449</td>\n",
       "      <td>2.296980</td>\n",
       "      <td>6.320534</td>\n",
       "      <td>2.280652</td>\n",
       "    </tr>\n",
       "  </tbody>\n",
       "</table>\n",
       "<p>156 rows × 4 columns</p>\n",
       "</div>"
      ],
      "text/plain": [
       "     sepal_length  sepal_width  petal_length  petal_width\n",
       "0        5.367117     4.434446      1.374910     0.497858\n",
       "1        4.900000     3.600000      1.400000     0.100000\n",
       "2        5.700000     2.500000      5.000000     2.000000\n",
       "3        5.700000     3.000000      4.200000     1.200000\n",
       "4        6.700000     3.300000      5.700000     2.100000\n",
       "..            ...          ...           ...          ...\n",
       "151      5.132883     2.365554      1.825090     0.502142\n",
       "152      5.980721     2.311288      6.153158     2.250375\n",
       "153      4.630351     2.743195      5.200417     1.737836\n",
       "154      6.695723     3.242433      3.152837     1.426165\n",
       "155      7.115449     2.296980      6.320534     2.280652\n",
       "\n",
       "[156 rows x 4 columns]"
      ]
     },
     "execution_count": 6,
     "metadata": {},
     "output_type": "execute_result"
    }
   ],
   "source": [
    "batch_data"
   ]
  },
  {
   "cell_type": "markdown",
   "metadata": {},
   "source": [
    "Batch prediction output is the last entry in the batch - it is output as a file 'latest_iris.png'"
   ]
  },
  {
   "cell_type": "code",
   "execution_count": 7,
   "metadata": {
    "execution": {
     "iopub.execute_input": "2025-02-19T00:59:15.615557Z",
     "iopub.status.busy": "2025-02-19T00:59:15.615391Z",
     "iopub.status.idle": "2025-02-19T00:59:15.732851Z",
     "shell.execute_reply": "2025-02-19T00:59:15.732244Z"
    }
   },
   "outputs": [],
   "source": [
    "flower = y_pred[y_pred.size - 1]\n",
    "flower_img = \"../assets/\" + label_encoder.classes_[flower] + \".png\"\n",
    "img = Image.open(flower_img)\n",
    "img.save(\"../assets/latest_iris.png\")"
   ]
  },
  {
   "cell_type": "code",
   "execution_count": 8,
   "metadata": {
    "execution": {
     "iopub.execute_input": "2025-02-19T00:59:15.734908Z",
     "iopub.status.busy": "2025-02-19T00:59:15.734710Z",
     "iopub.status.idle": "2025-02-19T00:59:16.870406Z",
     "shell.execute_reply": "2025-02-19T00:59:16.869806Z"
    }
   },
   "outputs": [
    {
     "name": "stdout",
     "output_type": "stream",
     "text": [
      "Reading data from Hopsworks, using Hopsworks Feature Query Service.   \r"
     ]
    },
    {
     "name": "stdout",
     "output_type": "stream",
     "text": [
      "\r",
      "Finished: Reading data from Hopsworks, using Hopsworks Feature Query Service (0.39s) \n"
     ]
    },
    {
     "data": {
      "text/html": [
       "<div>\n",
       "<style scoped>\n",
       "    .dataframe tbody tr th:only-of-type {\n",
       "        vertical-align: middle;\n",
       "    }\n",
       "\n",
       "    .dataframe tbody tr th {\n",
       "        vertical-align: top;\n",
       "    }\n",
       "\n",
       "    .dataframe thead th {\n",
       "        text-align: right;\n",
       "    }\n",
       "</style>\n",
       "<table border=\"1\" class=\"dataframe\">\n",
       "  <thead>\n",
       "    <tr style=\"text-align: right;\">\n",
       "      <th></th>\n",
       "      <th>sepal_length</th>\n",
       "      <th>sepal_width</th>\n",
       "      <th>petal_length</th>\n",
       "      <th>petal_width</th>\n",
       "      <th>variety</th>\n",
       "    </tr>\n",
       "  </thead>\n",
       "  <tbody>\n",
       "    <tr>\n",
       "      <th>151</th>\n",
       "      <td>5.132883</td>\n",
       "      <td>2.365554</td>\n",
       "      <td>1.825090</td>\n",
       "      <td>0.502142</td>\n",
       "      <td>Setosa</td>\n",
       "    </tr>\n",
       "    <tr>\n",
       "      <th>152</th>\n",
       "      <td>5.980721</td>\n",
       "      <td>2.311288</td>\n",
       "      <td>6.153158</td>\n",
       "      <td>2.250375</td>\n",
       "      <td>Virginica</td>\n",
       "    </tr>\n",
       "    <tr>\n",
       "      <th>153</th>\n",
       "      <td>4.630351</td>\n",
       "      <td>2.743195</td>\n",
       "      <td>5.200417</td>\n",
       "      <td>1.737836</td>\n",
       "      <td>Versicolor</td>\n",
       "    </tr>\n",
       "    <tr>\n",
       "      <th>154</th>\n",
       "      <td>6.695723</td>\n",
       "      <td>3.242433</td>\n",
       "      <td>3.152837</td>\n",
       "      <td>1.426165</td>\n",
       "      <td>Versicolor</td>\n",
       "    </tr>\n",
       "    <tr>\n",
       "      <th>155</th>\n",
       "      <td>7.115449</td>\n",
       "      <td>2.296980</td>\n",
       "      <td>6.320534</td>\n",
       "      <td>2.280652</td>\n",
       "      <td>Virginica</td>\n",
       "    </tr>\n",
       "  </tbody>\n",
       "</table>\n",
       "</div>"
      ],
      "text/plain": [
       "     sepal_length  sepal_width  petal_length  petal_width     variety\n",
       "151      5.132883     2.365554      1.825090     0.502142      Setosa\n",
       "152      5.980721     2.311288      6.153158     2.250375   Virginica\n",
       "153      4.630351     2.743195      5.200417     1.737836  Versicolor\n",
       "154      6.695723     3.242433      3.152837     1.426165  Versicolor\n",
       "155      7.115449     2.296980      6.320534     2.280652   Virginica"
      ]
     },
     "execution_count": 8,
     "metadata": {},
     "output_type": "execute_result"
    }
   ],
   "source": [
    "iris_fg = fs.get_feature_group(\"iris\", version=1)\n",
    "df = iris_fg.read()\n",
    "df.tail()"
   ]
  },
  {
   "cell_type": "code",
   "execution_count": 9,
   "metadata": {
    "execution": {
     "iopub.execute_input": "2025-02-19T00:59:16.872182Z",
     "iopub.status.busy": "2025-02-19T00:59:16.872011Z",
     "iopub.status.idle": "2025-02-19T00:59:16.875772Z",
     "shell.execute_reply": "2025-02-19T00:59:16.875238Z"
    }
   },
   "outputs": [
    {
     "data": {
      "text/plain": [
       "'Virginica'"
      ]
     },
     "execution_count": 9,
     "metadata": {},
     "output_type": "execute_result"
    }
   ],
   "source": [
    "label = df.iloc[-1]['variety']\n",
    "label"
   ]
  },
  {
   "cell_type": "code",
   "execution_count": 10,
   "metadata": {
    "execution": {
     "iopub.execute_input": "2025-02-19T00:59:16.877529Z",
     "iopub.status.busy": "2025-02-19T00:59:16.877222Z",
     "iopub.status.idle": "2025-02-19T00:59:16.910966Z",
     "shell.execute_reply": "2025-02-19T00:59:16.910405Z"
    }
   },
   "outputs": [],
   "source": [
    "label_flower = \"../assets/\" + label + \".png\"\n",
    "img = Image.open(label_flower)\n",
    "img.save(\"../assets/actual_iris.png\")"
   ]
  },
  {
   "cell_type": "code",
   "execution_count": 11,
   "metadata": {
    "execution": {
     "iopub.execute_input": "2025-02-19T00:59:16.912836Z",
     "iopub.status.busy": "2025-02-19T00:59:16.912422Z",
     "iopub.status.idle": "2025-02-19T00:59:17.140674Z",
     "shell.execute_reply": "2025-02-19T00:59:17.140082Z"
    }
   },
   "outputs": [],
   "source": [
    "import pandas as pd\n",
    "\n",
    "monitor_fg = fs.get_or_create_feature_group(\n",
    "    name=\"iris_predictions\",\n",
    "    version=1,\n",
    "    primary_key=[\"datetime\"],\n",
    "    description=\"Iris flower Prediction/Outcome Monitoring\"\n",
    ")"
   ]
  },
  {
   "cell_type": "code",
   "execution_count": 12,
   "metadata": {
    "execution": {
     "iopub.execute_input": "2025-02-19T00:59:17.142542Z",
     "iopub.status.busy": "2025-02-19T00:59:17.142371Z",
     "iopub.status.idle": "2025-02-19T00:59:25.290345Z",
     "shell.execute_reply": "2025-02-19T00:59:25.289888Z"
    }
   },
   "outputs": [
    {
     "name": "stderr",
     "output_type": "stream",
     "text": [
      "\r",
      "Uploading Dataframe: 0.00% |          | Rows 0/1 | Elapsed Time: 00:00 | Remaining Time: ?"
     ]
    },
    {
     "name": "stderr",
     "output_type": "stream",
     "text": [
      "\r",
      "Uploading Dataframe: 100.00% |██████████| Rows 1/1 | Elapsed Time: 00:00 | Remaining Time: 00:00"
     ]
    },
    {
     "name": "stderr",
     "output_type": "stream",
     "text": [
      "\n"
     ]
    },
    {
     "name": "stdout",
     "output_type": "stream",
     "text": [
      "Launching job: iris_predictions_1_offline_fg_materialization\n"
     ]
    },
    {
     "name": "stdout",
     "output_type": "stream",
     "text": [
      "Job started successfully, you can follow the progress at \n",
      "https://c.app.hopsworks.ai:443/p/1212597/jobs/named/iris_predictions_1_offline_fg_materialization/executions\n"
     ]
    },
    {
     "data": {
      "text/plain": [
       "(Job('iris_predictions_1_offline_fg_materialization', 'SPARK'), None)"
      ]
     },
     "execution_count": 12,
     "metadata": {},
     "output_type": "execute_result"
    }
   ],
   "source": [
    "from datetime import datetime\n",
    "now = datetime.now().strftime(\"%m/%d/%Y, %H:%M:%S\")\n",
    "\n",
    "data = {\n",
    "    'prediction': [label_encoder.classes_[flower]],\n",
    "    'label': [label],\n",
    "    'datetime': [now],\n",
    "}\n",
    "monitor_df = pd.DataFrame(data)\n",
    "monitor_fg.insert(monitor_df)"
   ]
  },
  {
   "cell_type": "code",
   "execution_count": 13,
   "metadata": {
    "execution": {
     "iopub.execute_input": "2025-02-19T00:59:25.292128Z",
     "iopub.status.busy": "2025-02-19T00:59:25.291774Z",
     "iopub.status.idle": "2025-02-19T00:59:26.191078Z",
     "shell.execute_reply": "2025-02-19T00:59:26.190577Z"
    }
   },
   "outputs": [
    {
     "name": "stdout",
     "output_type": "stream",
     "text": [
      "Reading data from Hopsworks, using Hopsworks Feature Query Service.   \r"
     ]
    },
    {
     "name": "stdout",
     "output_type": "stream",
     "text": [
      "\r",
      "Finished: Reading data from Hopsworks, using Hopsworks Feature Query Service (0.42s) \n"
     ]
    },
    {
     "data": {
      "text/html": [
       "<div>\n",
       "<style scoped>\n",
       "    .dataframe tbody tr th:only-of-type {\n",
       "        vertical-align: middle;\n",
       "    }\n",
       "\n",
       "    .dataframe tbody tr th {\n",
       "        vertical-align: top;\n",
       "    }\n",
       "\n",
       "    .dataframe thead th {\n",
       "        text-align: right;\n",
       "    }\n",
       "</style>\n",
       "<table border=\"1\" class=\"dataframe\">\n",
       "  <thead>\n",
       "    <tr style=\"text-align: right;\">\n",
       "      <th></th>\n",
       "      <th>prediction</th>\n",
       "      <th>label</th>\n",
       "      <th>datetime</th>\n",
       "    </tr>\n",
       "  </thead>\n",
       "  <tbody>\n",
       "    <tr>\n",
       "      <th>0</th>\n",
       "      <td>Setosa</td>\n",
       "      <td>Setosa</td>\n",
       "      <td>02/14/2025, 19:11:48</td>\n",
       "    </tr>\n",
       "    <tr>\n",
       "      <th>1</th>\n",
       "      <td>Setosa</td>\n",
       "      <td>Setosa</td>\n",
       "      <td>02/14/2025, 19:12:49</td>\n",
       "    </tr>\n",
       "    <tr>\n",
       "      <th>2</th>\n",
       "      <td>Setosa</td>\n",
       "      <td>Setosa</td>\n",
       "      <td>02/14/2025, 19:16:53</td>\n",
       "    </tr>\n",
       "    <tr>\n",
       "      <th>3</th>\n",
       "      <td>Virginica</td>\n",
       "      <td>Versicolor</td>\n",
       "      <td>02/14/2025, 19:18:35</td>\n",
       "    </tr>\n",
       "    <tr>\n",
       "      <th>4</th>\n",
       "      <td>Virginica</td>\n",
       "      <td>Versicolor</td>\n",
       "      <td>02/14/2025, 19:21:27</td>\n",
       "    </tr>\n",
       "    <tr>\n",
       "      <th>5</th>\n",
       "      <td>Virginica</td>\n",
       "      <td>Virginica</td>\n",
       "      <td>02/14/2025, 19:28:25</td>\n",
       "    </tr>\n",
       "    <tr>\n",
       "      <th>6</th>\n",
       "      <td>Virginica</td>\n",
       "      <td>Virginica</td>\n",
       "      <td>02/15/2025, 06:35:15</td>\n",
       "    </tr>\n",
       "    <tr>\n",
       "      <th>7</th>\n",
       "      <td>Virginica</td>\n",
       "      <td>Virginica</td>\n",
       "      <td>02/15/2025, 06:42:17</td>\n",
       "    </tr>\n",
       "    <tr>\n",
       "      <th>8</th>\n",
       "      <td>Virginica</td>\n",
       "      <td>Virginica</td>\n",
       "      <td>02/16/2025, 01:04:01</td>\n",
       "    </tr>\n",
       "    <tr>\n",
       "      <th>9</th>\n",
       "      <td>Virginica</td>\n",
       "      <td>Virginica</td>\n",
       "      <td>02/17/2025, 01:01:27</td>\n",
       "    </tr>\n",
       "    <tr>\n",
       "      <th>10</th>\n",
       "      <td>Virginica</td>\n",
       "      <td>Virginica</td>\n",
       "      <td>02/18/2025, 00:58:56</td>\n",
       "    </tr>\n",
       "  </tbody>\n",
       "</table>\n",
       "</div>"
      ],
      "text/plain": [
       "   prediction       label              datetime\n",
       "0      Setosa      Setosa  02/14/2025, 19:11:48\n",
       "1      Setosa      Setosa  02/14/2025, 19:12:49\n",
       "2      Setosa      Setosa  02/14/2025, 19:16:53\n",
       "3   Virginica  Versicolor  02/14/2025, 19:18:35\n",
       "4   Virginica  Versicolor  02/14/2025, 19:21:27\n",
       "5   Virginica   Virginica  02/14/2025, 19:28:25\n",
       "6   Virginica   Virginica  02/15/2025, 06:35:15\n",
       "7   Virginica   Virginica  02/15/2025, 06:42:17\n",
       "8   Virginica   Virginica  02/16/2025, 01:04:01\n",
       "9   Virginica   Virginica  02/17/2025, 01:01:27\n",
       "10  Virginica   Virginica  02/18/2025, 00:58:56"
      ]
     },
     "execution_count": 13,
     "metadata": {},
     "output_type": "execute_result"
    }
   ],
   "source": [
    "history_df = monitor_fg.read()\n",
    "history_df"
   ]
  },
  {
   "cell_type": "code",
   "execution_count": 14,
   "metadata": {
    "execution": {
     "iopub.execute_input": "2025-02-19T00:59:26.192916Z",
     "iopub.status.busy": "2025-02-19T00:59:26.192550Z",
     "iopub.status.idle": "2025-02-19T00:59:27.881177Z",
     "shell.execute_reply": "2025-02-19T00:59:27.880524Z"
    }
   },
   "outputs": [
    {
     "name": "stdout",
     "output_type": "stream",
     "text": [
      "2025-02-19 00:59:26,813 INFO: Failed to extract font properties from /usr/share/fonts/truetype/noto/NotoColorEmoji.ttf: Can not load face (unknown file format; error code 0x2)\n"
     ]
    },
    {
     "name": "stdout",
     "output_type": "stream",
     "text": [
      "2025-02-19 00:59:27,541 INFO: generated new fontManager\n"
     ]
    }
   ],
   "source": [
    "import dataframe_image as dfi\n",
    "\n",
    "df_recent = history_df.tail(5)\n",
    "\n",
    "dfi.export(df_recent, '../assets/df_recent.png',\n",
    "           table_conversion='matplotlib')"
   ]
  },
  {
   "cell_type": "code",
   "execution_count": 15,
   "metadata": {
    "execution": {
     "iopub.execute_input": "2025-02-19T00:59:27.883309Z",
     "iopub.status.busy": "2025-02-19T00:59:27.882982Z",
     "iopub.status.idle": "2025-02-19T00:59:27.892209Z",
     "shell.execute_reply": "2025-02-19T00:59:27.891651Z"
    }
   },
   "outputs": [
    {
     "name": "stdout",
     "output_type": "stream",
     "text": [
      "[[3 0 0]\n",
      " [0 0 2]\n",
      " [0 0 6]]\n"
     ]
    }
   ],
   "source": [
    "from sklearn.metrics import confusion_matrix\n",
    "\n",
    "predictions = history_df[['prediction']]\n",
    "labels = history_df[['label']]\n",
    "\n",
    "results = confusion_matrix(labels, predictions)\n",
    "print(results)"
   ]
  },
  {
   "cell_type": "code",
   "execution_count": 16,
   "metadata": {
    "execution": {
     "iopub.execute_input": "2025-02-19T00:59:27.894027Z",
     "iopub.status.busy": "2025-02-19T00:59:27.893651Z",
     "iopub.status.idle": "2025-02-19T00:59:28.119435Z",
     "shell.execute_reply": "2025-02-19T00:59:28.118829Z"
    }
   },
   "outputs": [
    {
     "data": {
      "image/png": "[encoded data removed]",
      "text/plain": [
       "<Figure size 640x480 with 2 Axes>"
      ]
     },
     "metadata": {},
     "output_type": "display_data"
    }
   ],
   "source": [
    "from matplotlib import pyplot\n",
    "import seaborn as sns\n",
    "\n",
    "# Only create the confusion matrix when our iris_predictions feature group has examples of all 3 iris flowers\n",
    "if results.shape == (3, 3):\n",
    "\n",
    "    df_cm = pd.DataFrame(results, ['True Setosa', 'True Versicolor', 'True Virginica'],\n",
    "                         ['Pred Setosa', 'Pred Versicolor', 'Pred Virginica'])\n",
    "\n",
    "    cm = sns.heatmap(df_cm, annot=True)\n",
    "\n",
    "    fig = cm.get_figure()\n",
    "    fig.savefig(\"../assets/confusion_matrix.png\")\n",
    "    df_cm\n",
    "else:\n",
    "    print(\"Run the batch inference pipeline more times until you get 3 different iris flowers\")"
   ]
  },
  {
   "cell_type": "code",
   "execution_count": null,
   "metadata": {},
   "outputs": [],
   "source": []
  }
 ],
 "metadata": {
  "kernelspec": {
   "display_name": "python3",
   "language": "python",
   "name": "python3"
  },
  "language_info": {
   "codemirror_mode": {
    "name": "ipython",
    "version": 3
   },
   "file_extension": ".py",
   "mimetype": "text/x-python",
   "name": "python",
   "nbconvert_exporter": "python",
   "pygments_lexer": "ipython3",
   "version": "3.11.8"
  }
 },
 "nbformat": 4,
 "nbformat_minor": 2
}
